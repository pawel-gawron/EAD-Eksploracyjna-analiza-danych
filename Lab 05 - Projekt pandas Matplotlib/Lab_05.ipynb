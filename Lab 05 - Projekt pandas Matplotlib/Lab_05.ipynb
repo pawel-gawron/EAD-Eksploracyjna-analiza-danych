{
 "cells": [
  {
   "cell_type": "code",
   "execution_count": 2,
   "metadata": {},
   "outputs": [],
   "source": [
    "import pandas as pd\n",
    "import matplotlib.pyplot as plt\n",
    "import numpy as np\n",
    "import glob\n",
    "import os"
   ]
  },
  {
   "cell_type": "code",
   "execution_count": 3,
   "metadata": {},
   "outputs": [
    {
     "name": "stdout",
     "output_type": "stream",
     "text": [
      "143\n"
     ]
    }
   ],
   "source": [
    "folder_path = './data/names'\n",
    "\n",
    "file_list = glob.glob(os.path.join(folder_path, '*.txt'))\n",
    "\n",
    "print(len(file_list))\n",
    "\n",
    "names_df_list = []\n",
    "\n",
    "for file in file_list:\n",
    "    data = pd.read_csv(file, delimiter=',', header=None)\n",
    "    year = int(os.path.basename(file).split('.')[0][-4:])\n",
    "    data = pd.concat([data, pd.Series([year] * len(data))], axis=1)\n",
    "    names_df_list.append(data)"
   ]
  },
  {
   "cell_type": "code",
   "execution_count": 4,
   "metadata": {},
   "outputs": [
    {
     "name": "stdout",
     "output_type": "stream",
     "text": [
      "             Name Sex  Quanity  Year\n",
      "0        Jennifer   F    56323  1978\n",
      "1         Melissa   F    28328  1978\n",
      "2         Jessica   F    26103  1978\n",
      "3             Amy   F    23212  1978\n",
      "4         Heather   F    22270  1978\n",
      "...           ...  ..      ...   ...\n",
      "2085153      Zeph   M        5  2000\n",
      "2085154     Zeven   M        5  2000\n",
      "2085155     Ziggy   M        5  2000\n",
      "2085156        Zo   M        5  2000\n",
      "2085157     Zyier   M        5  2000\n",
      "\n",
      "[2085158 rows x 4 columns]\n"
     ]
    }
   ],
   "source": [
    "names_df = pd.concat(names_df_list, ignore_index=True)\n",
    "\n",
    "column_names = ['Name', 'Sex', 'Quanity', 'Year']\n",
    "\n",
    "names_df.columns = column_names\n",
    "\n",
    "print(names_df)"
   ]
  },
  {
   "cell_type": "code",
   "execution_count": 5,
   "metadata": {},
   "outputs": [
    {
     "name": "stdout",
     "output_type": "stream",
     "text": [
      "Number of unique names across data: 102449\n",
      "Number of unique Female names across data: 70227\n",
      "Number of unique Male names across data: 43655\n"
     ]
    }
   ],
   "source": [
    "num_uniq_names = len(names_df['Name'].unique())\n",
    "num_uniq_names_female = len(names_df.loc[names_df['Sex'] == 'F']['Name'].unique())\n",
    "num_uniq_names_male = len(names_df.loc[names_df['Sex'] == 'M']['Name'].unique())\n",
    "\n",
    "print(\"Number of unique names across data:\", num_uniq_names)\n",
    "print(\"Number of unique Female names across data:\", num_uniq_names_female)\n",
    "print(\"Number of unique Male names across data:\", num_uniq_names_male)"
   ]
  },
  {
   "cell_type": "code",
   "execution_count": 60,
   "metadata": {},
   "outputs": [
    {
     "data": {
      "text/html": [
       "<div>\n",
       "<style scoped>\n",
       "    .dataframe tbody tr th:only-of-type {\n",
       "        vertical-align: middle;\n",
       "    }\n",
       "\n",
       "    .dataframe tbody tr th {\n",
       "        vertical-align: top;\n",
       "    }\n",
       "\n",
       "    .dataframe thead th {\n",
       "        text-align: right;\n",
       "    }\n",
       "</style>\n",
       "<table border=\"1\" class=\"dataframe\">\n",
       "  <thead>\n",
       "    <tr style=\"text-align: right;\">\n",
       "      <th></th>\n",
       "      <th></th>\n",
       "      <th></th>\n",
       "      <th>Quanity</th>\n",
       "      <th>frequency_male</th>\n",
       "      <th>frequency_female</th>\n",
       "    </tr>\n",
       "    <tr>\n",
       "      <th>Year</th>\n",
       "      <th>Sex</th>\n",
       "      <th>Name</th>\n",
       "      <th></th>\n",
       "      <th></th>\n",
       "      <th></th>\n",
       "    </tr>\n",
       "  </thead>\n",
       "  <tbody>\n",
       "    <tr>\n",
       "      <th rowspan=\"5\" valign=\"top\">1880</th>\n",
       "      <th rowspan=\"5\" valign=\"top\">F</th>\n",
       "      <th>Abbie</th>\n",
       "      <td>71.0</td>\n",
       "      <td>NaN</td>\n",
       "      <td>3.929584e-07</td>\n",
       "    </tr>\n",
       "    <tr>\n",
       "      <th>Abby</th>\n",
       "      <td>6.0</td>\n",
       "      <td>NaN</td>\n",
       "      <td>3.320775e-08</td>\n",
       "    </tr>\n",
       "    <tr>\n",
       "      <th>Abigail</th>\n",
       "      <td>12.0</td>\n",
       "      <td>NaN</td>\n",
       "      <td>6.641550e-08</td>\n",
       "    </tr>\n",
       "    <tr>\n",
       "      <th>Ada</th>\n",
       "      <td>652.0</td>\n",
       "      <td>NaN</td>\n",
       "      <td>3.608576e-06</td>\n",
       "    </tr>\n",
       "    <tr>\n",
       "      <th>Adah</th>\n",
       "      <td>24.0</td>\n",
       "      <td>NaN</td>\n",
       "      <td>1.328310e-07</td>\n",
       "    </tr>\n",
       "    <tr>\n",
       "      <th>...</th>\n",
       "      <th>...</th>\n",
       "      <th>...</th>\n",
       "      <td>...</td>\n",
       "      <td>...</td>\n",
       "      <td>...</td>\n",
       "    </tr>\n",
       "    <tr>\n",
       "      <th rowspan=\"5\" valign=\"top\">2022</th>\n",
       "      <th rowspan=\"5\" valign=\"top\">M</th>\n",
       "      <th>Zyren</th>\n",
       "      <td>8.0</td>\n",
       "      <td>4.333331e-08</td>\n",
       "      <td>NaN</td>\n",
       "    </tr>\n",
       "    <tr>\n",
       "      <th>Zyrie</th>\n",
       "      <td>11.0</td>\n",
       "      <td>5.958330e-08</td>\n",
       "      <td>NaN</td>\n",
       "    </tr>\n",
       "    <tr>\n",
       "      <th>Zyrin</th>\n",
       "      <td>6.0</td>\n",
       "      <td>3.249998e-08</td>\n",
       "      <td>NaN</td>\n",
       "    </tr>\n",
       "    <tr>\n",
       "      <th>Zyron</th>\n",
       "      <td>12.0</td>\n",
       "      <td>6.499997e-08</td>\n",
       "      <td>NaN</td>\n",
       "    </tr>\n",
       "    <tr>\n",
       "      <th>Zyrus</th>\n",
       "      <td>8.0</td>\n",
       "      <td>4.333331e-08</td>\n",
       "      <td>NaN</td>\n",
       "    </tr>\n",
       "  </tbody>\n",
       "</table>\n",
       "<p>2085158 rows × 3 columns</p>\n",
       "</div>"
      ],
      "text/plain": [
       "                  Quanity  frequency_male  frequency_female\n",
       "Year Sex Name                                              \n",
       "1880 F   Abbie       71.0             NaN      3.929584e-07\n",
       "         Abby         6.0             NaN      3.320775e-08\n",
       "         Abigail     12.0             NaN      6.641550e-08\n",
       "         Ada        652.0             NaN      3.608576e-06\n",
       "         Adah        24.0             NaN      1.328310e-07\n",
       "...                   ...             ...               ...\n",
       "2022 M   Zyren        8.0    4.333331e-08               NaN\n",
       "         Zyrie       11.0    5.958330e-08               NaN\n",
       "         Zyrin        6.0    3.249998e-08               NaN\n",
       "         Zyron       12.0    6.499997e-08               NaN\n",
       "         Zyrus        8.0    4.333331e-08               NaN\n",
       "\n",
       "[2085158 rows x 3 columns]"
      ]
     },
     "execution_count": 60,
     "metadata": {},
     "output_type": "execute_result"
    }
   ],
   "source": [
    "names_df_pivot = names_df.pivot_table(index=['Year', 'Sex', 'Name'], values='Quanity')\n",
    "\n",
    "names_male_freq = names_df_pivot.loc[(slice(None), 'M'), :].apply(lambda x: x.values/x.sum())\n",
    "names_female_freq = names_df_pivot.loc[(slice(None), 'F'), :].apply(lambda x: x.values/x.sum())\n",
    "\n",
    "names_df_pivot['frequency_male'] = names_male_freq\n",
    "names_df_pivot['frequency_female'] = names_female_freq\n",
    "\n",
    "names_df_pivot"
   ]
  }
 ],
 "metadata": {
  "kernelspec": {
   "display_name": ".venv",
   "language": "python",
   "name": "python3"
  },
  "language_info": {
   "codemirror_mode": {
    "name": "ipython",
    "version": 3
   },
   "file_extension": ".py",
   "mimetype": "text/x-python",
   "name": "python",
   "nbconvert_exporter": "python",
   "pygments_lexer": "ipython3",
   "version": "3.10.12"
  }
 },
 "nbformat": 4,
 "nbformat_minor": 2
}
