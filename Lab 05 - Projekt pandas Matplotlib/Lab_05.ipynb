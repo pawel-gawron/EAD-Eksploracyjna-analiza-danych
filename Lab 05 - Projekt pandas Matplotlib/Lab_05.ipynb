{
 "cells": [
  {
   "cell_type": "code",
   "execution_count": 1,
   "metadata": {},
   "outputs": [],
   "source": [
    "import pandas as pd\n",
    "import matplotlib.pyplot as plt\n",
    "import numpy as np\n",
    "import glob\n",
    "import os"
   ]
  },
  {
   "cell_type": "code",
   "execution_count": 2,
   "metadata": {},
   "outputs": [],
   "source": [
    "folder_path = './data/names'\n",
    "\n",
    "file_list = glob.glob(os.path.join(folder_path, '*.txt'))\n",
    "\n",
    "names_df_list = []\n",
    "\n",
    "for file in file_list:\n",
    "    data = pd.read_csv(file, delimiter=',', header=None)\n",
    "    year = int(os.path.basename(file).split('.')[0][-4:])\n",
    "    data = pd.concat([data, pd.Series([year] * len(data))], axis=1)\n",
    "    names_df_list.append(data)"
   ]
  },
  {
   "cell_type": "code",
   "execution_count": 3,
   "metadata": {},
   "outputs": [
    {
     "name": "stdout",
     "output_type": "stream",
     "text": [
      "             Name Sex  Quanity  Year\n",
      "0        Jennifer   F    56323  1978\n",
      "1         Melissa   F    28328  1978\n",
      "2         Jessica   F    26103  1978\n",
      "3             Amy   F    23212  1978\n",
      "4         Heather   F    22270  1978\n",
      "...           ...  ..      ...   ...\n",
      "2085153      Zeph   M        5  2000\n",
      "2085154     Zeven   M        5  2000\n",
      "2085155     Ziggy   M        5  2000\n",
      "2085156        Zo   M        5  2000\n",
      "2085157     Zyier   M        5  2000\n",
      "\n",
      "[2085158 rows x 4 columns]\n"
     ]
    }
   ],
   "source": [
    "names_df = pd.concat(names_df_list, ignore_index=True)\n",
    "\n",
    "column_names = ['Name', 'Sex', 'Quanity', 'Year']\n",
    "\n",
    "names_df.columns = column_names\n",
    "\n",
    "print(names_df)"
   ]
  },
  {
   "cell_type": "code",
   "execution_count": 17,
   "metadata": {},
   "outputs": [],
   "source": []
  }
 ],
 "metadata": {
  "kernelspec": {
   "display_name": ".venv",
   "language": "python",
   "name": "python3"
  },
  "language_info": {
   "codemirror_mode": {
    "name": "ipython",
    "version": 3
   },
   "file_extension": ".py",
   "mimetype": "text/x-python",
   "name": "python",
   "nbconvert_exporter": "python",
   "pygments_lexer": "ipython3",
   "version": "3.10.12"
  }
 },
 "nbformat": 4,
 "nbformat_minor": 2
}
