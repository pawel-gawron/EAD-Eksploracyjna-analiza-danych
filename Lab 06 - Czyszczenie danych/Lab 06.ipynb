{
 "cells": [
  {
   "cell_type": "markdown",
   "metadata": {},
   "source": [
    "# Funkcja klasyfikacji"
   ]
  },
  {
   "cell_type": "code",
   "execution_count": 3,
   "metadata": {},
   "outputs": [],
   "source": [
    "from sklearn.ensemble import RandomForestRegressor\n",
    "from sklearn.metrics import mean_absolute_error\n",
    "import numpy as np\n",
    "\n",
    "\n",
    "def score_dataset(x_train, x_valid, y_train, y_valid):\n",
    "    model = RandomForestRegressor(n_estimators=100, random_state=0)\n",
    "    model.fit(x_train, y_train)\n",
    "    preds = model.predict(x_valid)\n",
    "    return mean_absolute_error(y_valid, preds)"
   ]
  },
  {
   "cell_type": "markdown",
   "metadata": {},
   "source": [
    "# Wczytanie danych"
   ]
  },
  {
   "cell_type": "code",
   "execution_count": 4,
   "metadata": {},
   "outputs": [],
   "source": [
    "import pandas as pd\n",
    "\n",
    "df = pd.read_csv('melb_data.csv')"
   ]
  },
  {
   "cell_type": "markdown",
   "metadata": {},
   "source": [
    "# Podział danych"
   ]
  },
  {
   "cell_type": "code",
   "execution_count": 5,
   "metadata": {},
   "outputs": [],
   "source": [
    "from sklearn.datasets import make_blobs\n",
    "from sklearn.model_selection import train_test_split\n",
    "\n",
    "\n",
    "train_df, test_df = train_test_split(df, test_size=0.7)"
   ]
  },
  {
   "cell_type": "markdown",
   "metadata": {},
   "source": [
    "# Przechowywanie wyników testów"
   ]
  },
  {
   "cell_type": "code",
   "execution_count": 6,
   "metadata": {},
   "outputs": [],
   "source": [
    "results = {}"
   ]
  },
  {
   "cell_type": "markdown",
   "metadata": {},
   "source": [
    "# Brakujace kolumny"
   ]
  },
  {
   "cell_type": "code",
   "execution_count": 7,
   "metadata": {},
   "outputs": [
    {
     "name": "stdout",
     "output_type": "stream",
     "text": [
      "Missing columns:\n",
      "Car               62\n",
      "BuildingArea    6450\n",
      "YearBuilt       5375\n",
      "CouncilArea     1369\n",
      "dtype: int64\n",
      "Missing columns:\n",
      "                               Values: \n",
      "Suburb                             0.00\n",
      "Address                            0.00\n",
      "Rooms                              0.00\n",
      "Type                               0.00\n",
      "Price                              0.00\n",
      "Method                             0.00\n",
      "SellerG                            0.00\n",
      "Date                               0.00\n",
      "Distance                           0.00\n",
      "Postcode                           0.00\n",
      "Bedroom2                           0.00\n",
      "Bathroom                           0.00\n",
      "Car                                0.46\n",
      "Landsize                           0.00\n",
      "BuildingArea                      47.50\n",
      "YearBuilt                         39.58\n",
      "CouncilArea                       10.08\n",
      "Lattitude                          0.00\n",
      "Longtitude                         0.00\n",
      "Regionname                         0.00\n",
      "Propertycount                      0.00\n",
      "Total number of null values:   13256.00\n"
     ]
    }
   ],
   "source": [
    "missing_values_count = df.isnull().sum().loc[lambda x: x > 0]\n",
    "\n",
    "print(f'Missing columns:\\n{missing_values_count}')\n",
    "\n",
    "missing_values_percentage = (100 * (df.isnull().sum() / len(df))).round(2)\n",
    "\n",
    "lack = df.isnull().sum().sum()\n",
    "not_lack = df.notnull().sum().sum()\n",
    "\n",
    "d = {lack}\n",
    "\n",
    "total_number_of_null = pd.DataFrame(d, index=['Total number of null values: '])\n",
    "\n",
    "missing_values_percentage = pd.concat([missing_values_percentage, total_number_of_null], sort=False)\n",
    "\n",
    "missing_values_percentage.columns = ['Values: ']\n",
    "\n",
    "print(f'Missing columns:\\n{missing_values_percentage}')"
   ]
  },
  {
   "cell_type": "markdown",
   "metadata": {},
   "source": [
    "# Usunięcie kolumn zawierających przynajmniej 1 element pusty"
   ]
  },
  {
   "cell_type": "code",
   "execution_count": 8,
   "metadata": {},
   "outputs": [
    {
     "name": "stdout",
     "output_type": "stream",
     "text": [
      "183953.80955050973\n"
     ]
    }
   ],
   "source": [
    "train_df_cleaned = train_df.dropna()\n",
    "test_df_cleaned = test_df.dropna()\n",
    "\n",
    "cols_x = train_df_cleaned.select_dtypes(include=[np.number]).columns.difference(['Price'])  # wybiera tylko kolumny z wartosciami numerycznymi, za wyjątkiem kolumny z wartością referencyjną - wejście do klasyfikatora\n",
    "cols_y = 'Price'  # - wyjście z klasyfikatora\n",
    "score = score_dataset(train_df_cleaned[cols_x], test_df_cleaned[cols_x], train_df_cleaned[cols_y], test_df_cleaned[cols_y])\n",
    "print(score)\n",
    "\n",
    "results['Column erased'] = score"
   ]
  },
  {
   "cell_type": "markdown",
   "metadata": {},
   "source": [
    "# Usunięcie wierszy zawierających przynajmniej 1 element pusty"
   ]
  },
  {
   "cell_type": "code",
   "execution_count": 9,
   "metadata": {},
   "outputs": [
    {
     "name": "stdout",
     "output_type": "stream",
     "text": [
      "192095.01516671173\n"
     ]
    }
   ],
   "source": [
    "train_df_cleaned = train_df.dropna(axis=1)\n",
    "test_df_cleaned = test_df.dropna(axis=1)\n",
    "\n",
    "cols_x = train_df_cleaned.select_dtypes(include=[np.number]).columns.difference(['Price'])  # wybiera tylko kolumny z wartosciami numerycznymi, za wyjątkiem kolumny z wartością referencyjną - wejście do klasyfikatora\n",
    "cols_y = 'Price'  # - wyjście z klasyfikatora\n",
    "score = score_dataset(train_df_cleaned[cols_x], test_df_cleaned[cols_x], train_df_cleaned[cols_y], test_df_cleaned[cols_y])\n",
    "print(score)\n",
    "\n",
    "results['Rows erased'] = score"
   ]
  },
  {
   "cell_type": "markdown",
   "metadata": {},
   "source": [
    "# Usunięcie kolumn i wierszy zawierających przynajmniej 1 element pusty"
   ]
  },
  {
   "cell_type": "code",
   "execution_count": 10,
   "metadata": {},
   "outputs": [
    {
     "name": "stdout",
     "output_type": "stream",
     "text": [
      "183953.80955050973\n"
     ]
    }
   ],
   "source": [
    "train_df_cleaned = train_df.dropna()\n",
    "test_df_cleaned = test_df.dropna()\n",
    "\n",
    "train_df_cleaned = train_df_cleaned.dropna(axis=1)\n",
    "test_df_cleaned = test_df_cleaned.dropna(axis=1)\n",
    "\n",
    "cols_x = train_df_cleaned.select_dtypes(include=[np.number]).columns.difference(['Price'])  # wybiera tylko kolumny z wartosciami numerycznymi, za wyjątkiem kolumny z wartością referencyjną - wejście do klasyfikatora\n",
    "cols_y = 'Price'  # - wyjście z klasyfikatora\n",
    "print(score_dataset(train_df_cleaned[cols_x], test_df_cleaned[cols_x], train_df_cleaned[cols_y], test_df_cleaned[cols_y]))"
   ]
  },
  {
   "cell_type": "markdown",
   "metadata": {},
   "source": [
    "# Wypełnienie pustych wartości zerami"
   ]
  },
  {
   "cell_type": "code",
   "execution_count": 11,
   "metadata": {},
   "outputs": [
    {
     "name": "stdout",
     "output_type": "stream",
     "text": [
      "184789.62179360405\n"
     ]
    }
   ],
   "source": [
    "train_df_cleaned = train_df.fillna(0)\n",
    "test_df_cleaned = test_df.fillna(0)\n",
    "\n",
    "cols_x = train_df_cleaned.select_dtypes(include=[np.number]).columns.difference(['Price'])  # wybiera tylko kolumny z wartosciami numerycznymi, za wyjątkiem kolumny z wartością referencyjną - wejście do klasyfikatora\n",
    "cols_y = 'Price'  # - wyjście z klasyfikatora\n",
    "score = score_dataset(train_df_cleaned[cols_x], test_df_cleaned[cols_x], train_df_cleaned[cols_y], test_df_cleaned[cols_y])\n",
    "print(score)\n",
    "\n",
    "results['Fill zeros'] = score"
   ]
  },
  {
   "cell_type": "markdown",
   "metadata": {},
   "source": [
    "# Wypełnienie pustych wartości wartością, która poprzedza wartość brakującą"
   ]
  },
  {
   "cell_type": "code",
   "execution_count": 12,
   "metadata": {},
   "outputs": [
    {
     "name": "stderr",
     "output_type": "stream",
     "text": [
      "/tmp/ipykernel_5527/3887095280.py:1: FutureWarning: DataFrame.fillna with 'method' is deprecated and will raise in a future version. Use obj.ffill() or obj.bfill() instead.\n",
      "  train_df_cleaned = train_df.fillna(method='bfill', axis=0).fillna(0)  # wypełnia wartością poprzedzającą z danej kolumny, jeśli to niemożliwe, wstawia 0\n",
      "/tmp/ipykernel_5527/3887095280.py:2: FutureWarning: DataFrame.fillna with 'method' is deprecated and will raise in a future version. Use obj.ffill() or obj.bfill() instead.\n",
      "  test_df_cleaned = test_df.fillna(method='bfill', axis=0).fillna(0)  # wypełnia wartością poprzedzającą z danej kolumny, jeśli to niemożliwe, wstawia 0\n"
     ]
    },
    {
     "name": "stdout",
     "output_type": "stream",
     "text": [
      "191158.84383862824\n"
     ]
    }
   ],
   "source": [
    "train_df_cleaned = train_df.fillna(method='bfill', axis=0).fillna(0)  # wypełnia wartością poprzedzającą z danej kolumny, jeśli to niemożliwe, wstawia 0\n",
    "test_df_cleaned = test_df.fillna(method='bfill', axis=0).fillna(0)  # wypełnia wartością poprzedzającą z danej kolumny, jeśli to niemożliwe, wstawia 0\n",
    "\n",
    "cols_x = train_df_cleaned.select_dtypes(include=[np.number]).columns.difference(['Price'])  # wybiera tylko kolumny z wartosciami numerycznymi, za wyjątkiem kolumny z wartością referencyjną - wejście do klasyfikatora\n",
    "cols_y = 'Price'  # - wyjście z klasyfikatora\n",
    "score = score_dataset(train_df_cleaned[cols_x], test_df_cleaned[cols_x], train_df_cleaned[cols_y], test_df_cleaned[cols_y])\n",
    "print(score)\n",
    "\n",
    "results['Fill values before'] = score"
   ]
  },
  {
   "cell_type": "markdown",
   "metadata": {},
   "source": [
    "# Podstawienie wartości średniej"
   ]
  },
  {
   "cell_type": "code",
   "execution_count": 13,
   "metadata": {},
   "outputs": [
    {
     "name": "stdout",
     "output_type": "stream",
     "text": [
      "184695.51074689667\n"
     ]
    }
   ],
   "source": [
    "from sklearn.impute import SimpleImputer\n",
    "\n",
    "imp_mean = SimpleImputer(missing_values=np.nan, strategy='mean') \n",
    "train_df_cleaned = train_df.select_dtypes(include=[np.number]).copy()\n",
    "test_df_cleaned = test_df.select_dtypes(include=[np.number]).copy()#wybór tylko kolumn przechowujacych liczby, należy wykonać kopię obiektu\n",
    "\n",
    "train_df_cleaned.loc[:] = imp_mean.fit_transform(train_df_cleaned)  # dopasowanie parametrów (średnich) i transformacja zbioru uczącego\n",
    "test_df_cleaned[:]  = imp_mean.transform(test_df_cleaned)  # zastosowanie modelu do transformacji zbioru testowego (bez wyznaczania parametrów)\n",
    "\n",
    "cols_x = train_df_cleaned.select_dtypes(include=[np.number]).columns.difference(['Price'])  # wybiera tylko kolumny z wartosciami numerycznymi, za wyjątkiem kolumny z wartością referencyjną - wejście do klasyfikatora\n",
    "cols_y = 'Price'  # - wyjście z klasyfikatora\n",
    "score = score_dataset(train_df_cleaned[cols_x], test_df_cleaned[cols_x], train_df_cleaned[cols_y], test_df_cleaned[cols_y])\n",
    "print(score)\n",
    "\n",
    "results['Fill mean'] = score"
   ]
  },
  {
   "cell_type": "markdown",
   "metadata": {},
   "source": [
    "# Podstawienie wartości mediany"
   ]
  },
  {
   "cell_type": "code",
   "execution_count": 14,
   "metadata": {},
   "outputs": [
    {
     "name": "stdout",
     "output_type": "stream",
     "text": [
      "185354.09575916964\n"
     ]
    }
   ],
   "source": [
    "imp_mean = SimpleImputer(missing_values=np.nan, strategy='median') \n",
    "train_df_cleaned = train_df.select_dtypes(include=[np.number]).copy()\n",
    "test_df_cleaned = test_df.select_dtypes(include=[np.number]).copy()#wybór tylko kolumn przechowujacych liczby, należy wykonać kopię obiektu\n",
    "\n",
    "train_df_cleaned.loc[:] = imp_mean.fit_transform(train_df_cleaned)  # dopasowanie parametrów (średnich) i transformacja zbioru uczącego\n",
    "test_df_cleaned[:]  = imp_mean.transform(test_df_cleaned)  # zastosowanie modelu do transformacji zbioru testowego (bez wyznaczania parametrów)\n",
    "\n",
    "cols_x = train_df_cleaned.select_dtypes(include=[np.number]).columns.difference(['Price'])  # wybiera tylko kolumny z wartosciami numerycznymi, za wyjątkiem kolumny z wartością referencyjną - wejście do klasyfikatora\n",
    "cols_y = 'Price'  # - wyjście z klasyfikatora\n",
    "score = score_dataset(train_df_cleaned[cols_x], test_df_cleaned[cols_x], train_df_cleaned[cols_y], test_df_cleaned[cols_y])\n",
    "print(score)\n",
    "\n",
    "results['Fill median'] = score"
   ]
  },
  {
   "cell_type": "markdown",
   "metadata": {},
   "source": [
    "# Podstawienie wartości mody"
   ]
  },
  {
   "cell_type": "code",
   "execution_count": 15,
   "metadata": {},
   "outputs": [
    {
     "name": "stdout",
     "output_type": "stream",
     "text": [
      "184878.03623010026\n"
     ]
    }
   ],
   "source": [
    "imp_mean = SimpleImputer(missing_values=np.nan, strategy='most_frequent') \n",
    "train_df_cleaned = train_df.select_dtypes(include=[np.number]).copy()\n",
    "test_df_cleaned = test_df.select_dtypes(include=[np.number]).copy()#wybór tylko kolumn przechowujacych liczby, należy wykonać kopię obiektu\n",
    "\n",
    "train_df_cleaned.loc[:] = imp_mean.fit_transform(train_df_cleaned)  # dopasowanie parametrów (średnich) i transformacja zbioru uczącego\n",
    "test_df_cleaned[:]  = imp_mean.transform(test_df_cleaned)  # zastosowanie modelu do transformacji zbioru testowego (bez wyznaczania parametrów)\n",
    "\n",
    "cols_x = train_df_cleaned.select_dtypes(include=[np.number]).columns.difference(['Price'])  # wybiera tylko kolumny z wartosciami numerycznymi, za wyjątkiem kolumny z wartością referencyjną - wejście do klasyfikatora\n",
    "cols_y = 'Price'  # - wyjście z klasyfikatora\n",
    "score = score_dataset(train_df_cleaned[cols_x], test_df_cleaned[cols_x], train_df_cleaned[cols_y], test_df_cleaned[cols_y])\n",
    "print(score)\n",
    "\n",
    "results['Fill frequency'] = score"
   ]
  },
  {
   "cell_type": "code",
   "execution_count": 25,
   "metadata": {},
   "outputs": [
    {
     "name": "stdout",
     "output_type": "stream",
     "text": [
      "Column erased: 183953.80955050973\n",
      "Rows erased: 192095.01516671173\n",
      "Fill zeros: 184789.62179360405\n",
      "Fill values before: 191158.84383862824\n",
      "Fill mean: 184695.51074689667\n",
      "Fill median: 185354.09575916964\n",
      "Fill frequency: 184878.03623010026\n",
      "Min values\n",
      " Type: Column erased\n",
      " Value: 183953.80955050973\n"
     ]
    }
   ],
   "source": [
    "for key in results:\n",
    "    print(f'{key}: {results[key]}')\n",
    "min_value = min(results)\n",
    "print(f'Min values\\n Type: {min_value}\\n Value: {results[min_value]}')\n",
    "\n"
   ]
  },
  {
   "cell_type": "code",
   "execution_count": null,
   "metadata": {},
   "outputs": [],
   "source": []
  },
  {
   "cell_type": "code",
   "execution_count": null,
   "metadata": {},
   "outputs": [],
   "source": []
  }
 ],
 "metadata": {
  "kernelspec": {
   "display_name": ".venv",
   "language": "python",
   "name": "python3"
  },
  "language_info": {
   "codemirror_mode": {
    "name": "ipython",
    "version": 3
   },
   "file_extension": ".py",
   "mimetype": "text/x-python",
   "name": "python",
   "nbconvert_exporter": "python",
   "pygments_lexer": "ipython3",
   "version": "3.10.12"
  }
 },
 "nbformat": 4,
 "nbformat_minor": 2
}
