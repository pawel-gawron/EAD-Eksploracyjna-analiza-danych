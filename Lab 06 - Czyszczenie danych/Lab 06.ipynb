{
 "cells": [
  {
   "cell_type": "markdown",
   "metadata": {},
   "source": [
    "# Funkcja klasyfikacji"
   ]
  },
  {
   "cell_type": "code",
   "execution_count": 2,
   "metadata": {},
   "outputs": [],
   "source": [
    "from sklearn.ensemble import RandomForestRegressor\n",
    "from sklearn.metrics import mean_absolute_error\n",
    "import numpy as np\n",
    "\n",
    "\n",
    "def score_dataset(x_train, x_valid, y_train, y_valid):\n",
    "    model = RandomForestRegressor(n_estimators=200, random_state=0)\n",
    "    model.fit(x_train, y_train)\n",
    "    preds = model.predict(x_valid)\n",
    "    return mean_absolute_error(y_valid, preds)"
   ]
  },
  {
   "cell_type": "markdown",
   "metadata": {},
   "source": [
    "# Wczytanie danych"
   ]
  },
  {
   "cell_type": "code",
   "execution_count": 3,
   "metadata": {},
   "outputs": [],
   "source": [
    "import pandas as pd\n",
    "\n",
    "df = pd.read_csv('melb_data.csv')"
   ]
  },
  {
   "cell_type": "markdown",
   "metadata": {},
   "source": [
    "# Podział danych"
   ]
  },
  {
   "cell_type": "code",
   "execution_count": 4,
   "metadata": {},
   "outputs": [],
   "source": [
    "from sklearn.datasets import make_blobs\n",
    "from sklearn.model_selection import train_test_split\n",
    "\n",
    "\n",
    "train_df, test_df = train_test_split(df, test_size=0.7, random_state=42)"
   ]
  },
  {
   "cell_type": "markdown",
   "metadata": {},
   "source": [
    "# Przechowywanie wyników testów"
   ]
  },
  {
   "cell_type": "code",
   "execution_count": 5,
   "metadata": {},
   "outputs": [],
   "source": [
    "results = {}"
   ]
  },
  {
   "cell_type": "markdown",
   "metadata": {},
   "source": [
    "# Brakujace kolumny"
   ]
  },
  {
   "cell_type": "code",
   "execution_count": 6,
   "metadata": {},
   "outputs": [
    {
     "name": "stdout",
     "output_type": "stream",
     "text": [
      "Missing columns:\n",
      "Car               62\n",
      "BuildingArea    6450\n",
      "YearBuilt       5375\n",
      "CouncilArea     1369\n",
      "dtype: int64\n",
      "Missing columns:\n",
      "                                 Values\n",
      "Suburb                             0.00\n",
      "Address                            0.00\n",
      "Rooms                              0.00\n",
      "Type                               0.00\n",
      "Price                              0.00\n",
      "Method                             0.00\n",
      "SellerG                            0.00\n",
      "Date                               0.00\n",
      "Distance                           0.00\n",
      "Postcode                           0.00\n",
      "Bedroom2                           0.00\n",
      "Bathroom                           0.00\n",
      "Car                                0.46\n",
      "Landsize                           0.00\n",
      "BuildingArea                      47.50\n",
      "YearBuilt                         39.58\n",
      "CouncilArea                       10.08\n",
      "Lattitude                          0.00\n",
      "Longtitude                         0.00\n",
      "Regionname                         0.00\n",
      "Propertycount                      0.00\n",
      "Total number of null values:   13256.00\n"
     ]
    }
   ],
   "source": [
    "missing_values_count = df.isnull().sum().loc[lambda x: x > 0]\n",
    "\n",
    "print(f'Missing columns:\\n{missing_values_count}')\n",
    "\n",
    "missing_values_percentage = (100 * (df.isnull().sum() / len(df))).round(2)\n",
    "\n",
    "lack = df.isnull().sum().sum()\n",
    "not_lack = df.notnull().sum().sum()\n",
    "\n",
    "d = {lack}\n",
    "\n",
    "total_number_of_null = pd.DataFrame(d, index=['Total number of null values: '])\n",
    "\n",
    "missing_values_percentage = pd.concat([missing_values_percentage, total_number_of_null], sort=False)\n",
    "\n",
    "missing_values_percentage.columns = ['Values']\n",
    "\n",
    "print(f'Missing columns:\\n{missing_values_percentage}')"
   ]
  },
  {
   "cell_type": "markdown",
   "metadata": {},
   "source": [
    "# Usunięcie wierszy zawierających przynajmniej 1 element pusty"
   ]
  },
  {
   "cell_type": "code",
   "execution_count": 7,
   "metadata": {},
   "outputs": [
    {
     "name": "stdout",
     "output_type": "stream",
     "text": [
      "187688.98120434958\n"
     ]
    }
   ],
   "source": [
    "\n",
    "train_df_cleaned = train_df.copy().dropna()\n",
    "test_df_cleaned = test_df.copy().dropna()\n",
    "\n",
    "cols_x = train_df_cleaned.select_dtypes(include=[np.number]).columns.difference(['Price'])  # wybiera tylko kolumny z wartosciami numerycznymi, za wyjątkiem kolumny z wartością referencyjną - wejście do klasyfikatora\n",
    "cols_y = 'Price'  # - wyjście z klasyfikatora\n",
    "score = score_dataset(train_df_cleaned[cols_x], test_df_cleaned[cols_x], train_df_cleaned[cols_y], test_df_cleaned[cols_y])\n",
    "print(score)\n",
    "\n",
    "results['Row erased'] = score"
   ]
  },
  {
   "cell_type": "markdown",
   "metadata": {},
   "source": [
    "# Usunięcie kolumn zawierających przynajmniej 1 element pusty"
   ]
  },
  {
   "cell_type": "code",
   "execution_count": 8,
   "metadata": {},
   "outputs": [
    {
     "name": "stdout",
     "output_type": "stream",
     "text": [
      "196338.8564761354\n"
     ]
    }
   ],
   "source": [
    "train_df_cleaned = train_df.copy().dropna(axis=1)\n",
    "test_df_cleaned = test_df.copy().dropna(axis=1)\n",
    "\n",
    "cols_x = train_df_cleaned.select_dtypes(include=[np.number]).columns.difference(['Price'])  # wybiera tylko kolumny z wartosciami numerycznymi, za wyjątkiem kolumny z wartością referencyjną - wejście do klasyfikatora\n",
    "cols_y = 'Price'  # - wyjście z klasyfikatora\n",
    "score = score_dataset(train_df_cleaned[cols_x], test_df_cleaned[cols_x], train_df_cleaned[cols_y], test_df_cleaned[cols_y])\n",
    "print(score)\n",
    "\n",
    "results['Column erased'] = score"
   ]
  },
  {
   "cell_type": "markdown",
   "metadata": {},
   "source": [
    "# Wypełnienie pustych wartości zerami"
   ]
  },
  {
   "cell_type": "code",
   "execution_count": 9,
   "metadata": {},
   "outputs": [
    {
     "name": "stdout",
     "output_type": "stream",
     "text": [
      "188151.4309792938\n"
     ]
    }
   ],
   "source": [
    "train_df_cleaned = train_df.copy().fillna(0)\n",
    "test_df_cleaned = test_df.copy().fillna(0)\n",
    "\n",
    "cols_x = train_df_cleaned.select_dtypes(include=[np.number]).columns.difference(['Price'])  # wybiera tylko kolumny z wartosciami numerycznymi, za wyjątkiem kolumny z wartością referencyjną - wejście do klasyfikatora\n",
    "cols_y = 'Price'  # - wyjście z klasyfikatora\n",
    "score = score_dataset(train_df_cleaned[cols_x], test_df_cleaned[cols_x], train_df_cleaned[cols_y], test_df_cleaned[cols_y])\n",
    "print(score)\n",
    "\n",
    "results['Fill zeros'] = score"
   ]
  },
  {
   "cell_type": "markdown",
   "metadata": {},
   "source": [
    "# Wypełnienie pustych wartości wartością, która poprzedza wartość brakującą"
   ]
  },
  {
   "cell_type": "code",
   "execution_count": 10,
   "metadata": {},
   "outputs": [
    {
     "name": "stderr",
     "output_type": "stream",
     "text": [
      "/tmp/ipykernel_17143/633143724.py:1: FutureWarning: DataFrame.fillna with 'method' is deprecated and will raise in a future version. Use obj.ffill() or obj.bfill() instead.\n",
      "  train_df_cleaned = train_df.copy().fillna(method='bfill', axis=0).fillna(0)  # wypełnia wartością poprzedzającą z danej kolumny, jeśli to niemożliwe, wstawia 0\n",
      "/tmp/ipykernel_17143/633143724.py:2: FutureWarning: DataFrame.fillna with 'method' is deprecated and will raise in a future version. Use obj.ffill() or obj.bfill() instead.\n",
      "  test_df_cleaned = test_df.copy().fillna(method='bfill', axis=0).fillna(0)  # wypełnia wartością poprzedzającą z danej kolumny, jeśli to niemożliwe, wstawia 0\n"
     ]
    },
    {
     "name": "stdout",
     "output_type": "stream",
     "text": [
      "193113.0400968561\n"
     ]
    }
   ],
   "source": [
    "train_df_cleaned = train_df.copy().fillna(method='bfill', axis=0).fillna(0)  # wypełnia wartością poprzedzającą z danej kolumny, jeśli to niemożliwe, wstawia 0\n",
    "test_df_cleaned = test_df.copy().fillna(method='bfill', axis=0).fillna(0)  # wypełnia wartością poprzedzającą z danej kolumny, jeśli to niemożliwe, wstawia 0\n",
    "\n",
    "cols_x = train_df_cleaned.select_dtypes(include=[np.number]).columns.difference(['Price'])  # wybiera tylko kolumny z wartosciami numerycznymi, za wyjątkiem kolumny z wartością referencyjną - wejście do klasyfikatora\n",
    "cols_y = 'Price'  # - wyjście z klasyfikatora\n",
    "score = score_dataset(train_df_cleaned[cols_x], test_df_cleaned[cols_x], train_df_cleaned[cols_y], test_df_cleaned[cols_y])\n",
    "print(score)\n",
    "\n",
    "results['Fill values before'] = score"
   ]
  },
  {
   "cell_type": "markdown",
   "metadata": {},
   "source": [
    "# Podstawienie wartości średniej"
   ]
  },
  {
   "cell_type": "code",
   "execution_count": 11,
   "metadata": {},
   "outputs": [
    {
     "name": "stdout",
     "output_type": "stream",
     "text": [
      "187659.41375254226\n"
     ]
    }
   ],
   "source": [
    "from sklearn.impute import SimpleImputer\n",
    "\n",
    "imp_mean = SimpleImputer(missing_values=np.nan, strategy='mean') \n",
    "train_df_cleaned = train_df.select_dtypes(include=[np.number]).copy()\n",
    "test_df_cleaned = test_df.select_dtypes(include=[np.number]).copy()#wybór tylko kolumn przechowujacych liczby, należy wykonać kopię obiektu\n",
    "\n",
    "train_df_cleaned.loc[:] = imp_mean.fit_transform(train_df_cleaned)  # dopasowanie parametrów (średnich) i transformacja zbioru uczącego\n",
    "test_df_cleaned[:]  = imp_mean.transform(test_df_cleaned)  # zastosowanie modelu do transformacji zbioru testowego (bez wyznaczania parametrów)\n",
    "\n",
    "cols_x = train_df_cleaned.select_dtypes(include=[np.number]).columns.difference(['Price'])  # wybiera tylko kolumny z wartosciami numerycznymi, za wyjątkiem kolumny z wartością referencyjną - wejście do klasyfikatora\n",
    "cols_y = 'Price'  # - wyjście z klasyfikatora\n",
    "score = score_dataset(train_df_cleaned[cols_x], test_df_cleaned[cols_x], train_df_cleaned[cols_y], test_df_cleaned[cols_y])\n",
    "print(score)\n",
    "\n",
    "results['Fill mean'] = score"
   ]
  },
  {
   "cell_type": "markdown",
   "metadata": {},
   "source": [
    "# Podstawienie wartości mediany"
   ]
  },
  {
   "cell_type": "code",
   "execution_count": 12,
   "metadata": {},
   "outputs": [
    {
     "name": "stdout",
     "output_type": "stream",
     "text": [
      "188323.4579813501\n"
     ]
    }
   ],
   "source": [
    "imp_median = SimpleImputer(missing_values=np.nan, strategy='median') \n",
    "train_df_cleaned = train_df.select_dtypes(include=[np.number]).copy()\n",
    "test_df_cleaned = test_df.select_dtypes(include=[np.number]).copy()#wybór tylko kolumn przechowujacych liczby, należy wykonać kopię obiektu\n",
    "\n",
    "train_df_cleaned.loc[:] = imp_median.fit_transform(train_df_cleaned)  # dopasowanie parametrów (średnich) i transformacja zbioru uczącego\n",
    "test_df_cleaned[:]  = imp_median.transform(test_df_cleaned)  # zastosowanie modelu do transformacji zbioru testowego (bez wyznaczania parametrów)\n",
    "\n",
    "cols_x = train_df_cleaned.select_dtypes(include=[np.number]).columns.difference(['Price'])  # wybiera tylko kolumny z wartosciami numerycznymi, za wyjątkiem kolumny z wartością referencyjną - wejście do klasyfikatora\n",
    "cols_y = 'Price'  # - wyjście z klasyfikatora\n",
    "score = score_dataset(train_df_cleaned[cols_x], test_df_cleaned[cols_x], train_df_cleaned[cols_y], test_df_cleaned[cols_y])\n",
    "print(score)\n",
    "\n",
    "results['Fill median'] = score"
   ]
  },
  {
   "cell_type": "markdown",
   "metadata": {},
   "source": [
    "# Podstawienie wartości mody"
   ]
  },
  {
   "cell_type": "code",
   "execution_count": 13,
   "metadata": {},
   "outputs": [
    {
     "name": "stdout",
     "output_type": "stream",
     "text": [
      "188363.78979876117\n"
     ]
    }
   ],
   "source": [
    "imp_frequent = SimpleImputer(missing_values=np.nan, strategy='most_frequent') \n",
    "train_df_cleaned = train_df.select_dtypes(include=[np.number]).copy()\n",
    "test_df_cleaned = test_df.select_dtypes(include=[np.number]).copy()#wybór tylko kolumn przechowujacych liczby, należy wykonać kopię obiektu\n",
    "\n",
    "train_df_cleaned.loc[:] = imp_frequent.fit_transform(train_df_cleaned)  # dopasowanie parametrów (średnich) i transformacja zbioru uczącego\n",
    "test_df_cleaned[:]  = imp_frequent.transform(test_df_cleaned)  # zastosowanie modelu do transformacji zbioru testowego (bez wyznaczania parametrów)\n",
    "\n",
    "cols_x = train_df_cleaned.select_dtypes(include=[np.number]).columns.difference(['Price'])  # wybiera tylko kolumny z wartosciami numerycznymi, za wyjątkiem kolumny z wartością referencyjną - wejście do klasyfikatora\n",
    "cols_y = 'Price'  # - wyjście z klasyfikatora\n",
    "score = score_dataset(train_df_cleaned[cols_x], test_df_cleaned[cols_x], train_df_cleaned[cols_y], test_df_cleaned[cols_y])\n",
    "print(score)\n",
    "\n",
    "results['Fill frequency'] = score"
   ]
  },
  {
   "cell_type": "code",
   "execution_count": 14,
   "metadata": {},
   "outputs": [
    {
     "name": "stdout",
     "output_type": "stream",
     "text": [
      "Row erased: 187688.98120434958\n",
      "Column erased: 196338.8564761354\n",
      "Fill zeros: 188151.4309792938\n",
      "Fill values before: 193113.0400968561\n",
      "Fill mean: 187659.41375254226\n",
      "Fill median: 188323.4579813501\n",
      "Fill frequency: 188363.78979876117\n",
      "Min values\n",
      " Type: Fill mean\n",
      " Value: 187659.41375254226\n"
     ]
    }
   ],
   "source": [
    "for key in results:\n",
    "    print(f'{key}: {results[key]}')\n",
    "min_value = min(results, key=results.get)\n",
    "print(f'Min values\\n Type: {min_value}\\n Value: {results[min_value]}')\n",
    "\n"
   ]
  },
  {
   "cell_type": "code",
   "execution_count": 15,
   "metadata": {},
   "outputs": [],
   "source": [
    "# train_df = train_df.copy().dropna()\n",
    "# test_df = test_df.copy().dropna()\n",
    "\n",
    "# train_df = train_df.copy()\n",
    "# test_df = test_df.copy()\n",
    "\n",
    "imp_mean = SimpleImputer(missing_values=np.nan, strategy='mean') \n",
    "train_df_cleaned = train_df.select_dtypes(include=[np.number]).copy()\n",
    "test_df_cleaned = test_df.select_dtypes(include=[np.number]).copy()#wybór tylko kolumn przechowujacych liczby, należy wykonać kopię obiektu\n",
    "\n",
    "train_df_cleaned.loc[:] = imp_mean.fit_transform(train_df_cleaned)  # dopasowanie parametrów (średnich) i transformacja zbioru uczącego\n",
    "test_df_cleaned[:]  = imp_mean.transform(test_df_cleaned)  # zastosowanie modelu do transformacji zbioru testowego (bez wyznaczania parametrów)\n",
    "\n",
    "train_df[train_df_cleaned.columns] = train_df_cleaned\n",
    "test_df[test_df_cleaned.columns] = test_df_cleaned"
   ]
  },
  {
   "cell_type": "markdown",
   "metadata": {},
   "source": [
    "# Dodatnie dnia tygodnia kiedy nastąpiła sprzedaż"
   ]
  },
  {
   "cell_type": "code",
   "execution_count": 16,
   "metadata": {},
   "outputs": [
    {
     "name": "stdout",
     "output_type": "stream",
     "text": [
      "187641.95197682167\n"
     ]
    }
   ],
   "source": [
    "train_df_cleaned = train_df.copy()\n",
    "test_df_cleaned = test_df.copy()\n",
    "\n",
    "train_df_cleaned['Day'] = pd.to_datetime(train_df_cleaned['Date'],format=\"%d/%m/%Y\").dt.dayofweek + 1\n",
    "test_df_cleaned['Day'] = pd.to_datetime(test_df_cleaned['Date'],format=\"%d/%m/%Y\").dt.dayofweek + 1\n",
    "\n",
    "cols_x = train_df_cleaned.select_dtypes(include=[np.number]).columns.difference(['Price'])  # wybiera tylko kolumny z wartosciami numerycznymi, za wyjątkiem kolumny z wartością referencyjną - wejście do klasyfikatora\n",
    "cols_y = 'Price'  # - wyjście z klasyfikatora\n",
    "score = score_dataset(train_df_cleaned[cols_x], test_df_cleaned[cols_x], train_df_cleaned[cols_y], test_df_cleaned[cols_y])\n",
    "print(score)\n",
    "\n",
    "results['Add week day'] = score"
   ]
  },
  {
   "cell_type": "code",
   "execution_count": 17,
   "metadata": {},
   "outputs": [
    {
     "name": "stdout",
     "output_type": "stream",
     "text": [
      "1\n",
      "2\n",
      "4\n",
      "6\n",
      "7\n"
     ]
    },
    {
     "data": {
      "text/plain": [
       "dict_keys([1, 2, 4, 6, 7])"
      ]
     },
     "execution_count": 17,
     "metadata": {},
     "output_type": "execute_result"
    },
    {
     "data": {
      "image/png": "[encoded data removed]",
      "text/plain": [
       "<Figure size 1000x600 with 1 Axes>"
      ]
     },
     "metadata": {},
     "output_type": "display_data"
    }
   ],
   "source": [
    "from matplotlib import pyplot as plt\n",
    "day_of_week = df.copy()\n",
    "\n",
    "day_of_week['Day'] = pd.to_datetime(day_of_week['Date'],format=\"%d/%m/%Y\").dt.dayofweek + 1\n",
    "\n",
    "day_of_week = day_of_week.groupby('Day')\n",
    "\n",
    "data = []\n",
    "\n",
    "for i, value in enumerate(day_of_week.groups.keys()):\n",
    "    data.append(len(day_of_week.get_group(value)))\n",
    "    print(value)\n",
    "\n",
    "fig, ax = plt.subplots(figsize=(10, 6))\n",
    "\n",
    "width = 0.7\n",
    "\n",
    "ax.bar(day_of_week.groups.keys(), data, label='John birth quanity', width=width)\n",
    "ax.set_xlabel('Day of week')\n",
    "ax.set_ylabel('Number of transactions')\n",
    "ax.set_title('Number of transactions by day of week')\n",
    "ax.grid(True)\n",
    "\n",
    "day_of_week.groups.keys()"
   ]
  },
  {
   "cell_type": "code",
   "execution_count": 18,
   "metadata": {},
   "outputs": [
    {
     "name": "stdout",
     "output_type": "stream",
     "text": [
      "0             Northern Metropolitan\n",
      "1             Northern Metropolitan\n",
      "2             Northern Metropolitan\n",
      "3             Northern Metropolitan\n",
      "4             Northern Metropolitan\n",
      "                    ...            \n",
      "13575    South-Eastern Metropolitan\n",
      "13576          Western Metropolitan\n",
      "13577          Western Metropolitan\n",
      "13578          Western Metropolitan\n",
      "13579          Western Metropolitan\n",
      "Name: Regionname, Length: 13580, dtype: object\n",
      "0             Northern Metropolitan\n",
      "1             Northern Metropolitan\n",
      "2             Northern Metropolitan\n",
      "3             Northern Metropolitan\n",
      "4             Northern Metropolitan\n",
      "                    ...            \n",
      "13575    South-Eastern Metropolitan\n",
      "13576          Western Metropolitan\n",
      "13577          Western Metropolitan\n",
      "13578          Western Metropolitan\n",
      "13579          Western Metropolitan\n",
      "Name: Regionname, Length: 13580, dtype: object\n"
     ]
    }
   ],
   "source": [
    "print(df[\"Regionname\"])\n",
    "df.loc[:, \"Regionname\"] = df.loc[:, \"Regionname\"].astype(\"category\")\n",
    "print(df[\"Regionname\"])"
   ]
  },
  {
   "cell_type": "code",
   "execution_count": 19,
   "metadata": {},
   "outputs": [
    {
     "name": "stdout",
     "output_type": "stream",
     "text": [
      "0    a\n",
      "1    b\n",
      "2    c\n",
      "3    a\n",
      "dtype: category\n",
      "Categories (3, object): ['a', 'b', 'c']\n"
     ]
    }
   ],
   "source": [
    "categorical_series = pd.Series([\"a\", \"b\", \"c\", \"a\"], dtype=\"category\")\n",
    "print(categorical_series)"
   ]
  },
  {
   "cell_type": "code",
   "execution_count": 20,
   "metadata": {},
   "outputs": [
    {
     "name": "stdout",
     "output_type": "stream",
     "text": [
      "314\n",
      "314\n",
      "314\n"
     ]
    }
   ],
   "source": [
    "print(len(np.unique(df['Suburb'])))\n",
    "# zmiana na małe litery\n",
    "df['Suburb'] = df['Suburb'].str.lower()\n",
    "print(len(np.unique(df['Suburb'])))\n",
    "# usunięcie końcowych spacji\n",
    "df['Suburb'] = df['Suburb'].str.strip()\n",
    "print(len(np.unique(df['Suburb'])))"
   ]
  },
  {
   "cell_type": "markdown",
   "metadata": {},
   "source": [
    "# Dodanie nowej cechy (np. CouncilArea) za pomocą LabelEncoder"
   ]
  },
  {
   "cell_type": "code",
   "execution_count": 21,
   "metadata": {},
   "outputs": [
    {
     "name": "stdout",
     "output_type": "stream",
     "text": [
      "135881.22087516155\n"
     ]
    }
   ],
   "source": [
    "from sklearn.preprocessing import LabelEncoder\n",
    "\n",
    "# Make copy to avoid changing original data \n",
    "label_train = train_df.copy()\n",
    "label_test = test_df.copy()\n",
    "\n",
    "encoder_temp = pd.concat([label_train, label_test])\n",
    "\n",
    "# Apply label encoder to each column with categorical data\n",
    "label_encoder = LabelEncoder()\n",
    "col='CouncilArea'\n",
    "# label_train[col] = label_encoder.fit_transform(label_train[col])\n",
    "# label_test[col] = label_encoder.fit_transform(label_test[col])\n",
    "\n",
    "encoder_temp[col] = label_encoder.fit_transform(encoder_temp[col])\n",
    "\n",
    "label_train = encoder_temp.iloc[:len(label_train), :]\n",
    "label_test = encoder_temp.iloc[:len(label_test), :]\n",
    "\n",
    "cols_x = label_train.select_dtypes(include=[np.number]).columns.difference(['Price'])  # wybiera tylko kolumny z wartosciami numerycznymi, za wyjątkiem kolumny z wartością referencyjną - wejście do klasyfikatora\n",
    "cols_y = 'Price'  # - wyjście z klasyfikatora\n",
    "score = score_dataset(label_train[cols_x], label_test[cols_x], label_train[cols_y], label_test[cols_y])\n",
    "print(score)\n",
    "\n",
    "results['LabelEncoder'] = score"
   ]
  },
  {
   "cell_type": "markdown",
   "metadata": {},
   "source": [
    "# Dodanie nowej cechy (np. CouncilArea) za pomocą BinaryEncoder"
   ]
  },
  {
   "cell_type": "code",
   "execution_count": 22,
   "metadata": {},
   "outputs": [
    {
     "name": "stdout",
     "output_type": "stream",
     "text": [
      "136349.68681464338\n"
     ]
    }
   ],
   "source": [
    "from sklearn.preprocessing import LabelBinarizer\n",
    "\n",
    "\n",
    "# Make copy to avoid changing original data \n",
    "\n",
    "label_train = train_df.copy()\n",
    "label_test = test_df.copy()\n",
    "\n",
    "encoder_temp = pd.concat([label_train, label_test])\n",
    "\n",
    "# label_train['CouncilArea'] = label_train['CouncilArea'].astype(str)\n",
    "# label_test['CouncilArea'] = label_test['CouncilArea'].astype(str)\n",
    "encoder_temp['CouncilArea'] = encoder_temp['CouncilArea'].astype(str)\n",
    "\n",
    "label_binarizer = LabelBinarizer()\n",
    "\n",
    "col = 'CouncilArea'\n",
    "# lb_results = label_binarizer.fit_transform(label_train[col])\n",
    "# lb_results_df = pd.DataFrame(lb_results, columns=label_binarizer.classes_)\n",
    "# label_train = pd.concat([label_train.reset_index(), lb_results_df], axis=1)\n",
    "\n",
    "# lb_results = label_binarizer.fit_transform(label_test[col])\n",
    "# lb_results_df = pd.DataFrame(lb_results, columns=label_binarizer.classes_)\n",
    "# label_test = pd.concat([label_test.reset_index(), lb_results_df], axis=1)\n",
    "\n",
    "lb_results = label_binarizer.fit_transform(encoder_temp[col])\n",
    "lb_results_df = pd.DataFrame(lb_results, columns=label_binarizer.classes_)\n",
    "encoder_temp = pd.concat([encoder_temp.reset_index(), lb_results_df], axis=1)\n",
    "\n",
    "label_train = encoder_temp.iloc[:len(label_train), :]\n",
    "label_test = encoder_temp.iloc[:len(label_test), :]\n",
    "\n",
    "cols_x = label_train.select_dtypes(include=[np.number]).columns.difference(['Price'])  # wybiera tylko kolumny z wartosciami numerycznymi, za wyjątkiem kolumny z wartością referencyjną - wejście do klasyfikatora\n",
    "cols_y = 'Price'  # - wyjście z klasyfikatora\n",
    "score = score_dataset(label_train[cols_x], label_test[cols_x], label_train[cols_y], label_test[cols_y])\n",
    "print(score)\n",
    "\n",
    "results['LabelBinarizer'] = score"
   ]
  },
  {
   "cell_type": "code",
   "execution_count": 23,
   "metadata": {},
   "outputs": [
    {
     "name": "stdout",
     "output_type": "stream",
     "text": [
      "Row erased: 187688.98120434958\n",
      "Column erased: 196338.8564761354\n",
      "Fill zeros: 188151.4309792938\n",
      "Fill values before: 193113.0400968561\n",
      "Fill mean: 187659.41375254226\n",
      "Fill median: 188323.4579813501\n",
      "Fill frequency: 188363.78979876117\n",
      "Add week day: 187641.95197682167\n",
      "LabelEncoder: 135881.22087516155\n",
      "LabelBinarizer: 136349.68681464338\n",
      "Min values:\n",
      " Type: LabelEncoder\n",
      " Value: 135881.22087516155\n"
     ]
    }
   ],
   "source": [
    "for key in results:\n",
    "    print(f'{key}: {results[key]}')\n",
    "min_value = min(results, key=results.get)\n",
    "print(f'Min values:\\n Type: {min_value}\\n Value: {results[min_value]}')"
   ]
  },
  {
   "cell_type": "markdown",
   "metadata": {},
   "source": []
  },
  {
   "cell_type": "markdown",
   "metadata": {},
   "source": [
    "### Które podejście/podejścia wydają się być najbardziej obiecujące w odniesieniu do estymacji cen nieruchomości (w odniesieniu do uzupełniania braków w poszczególnych kolumnach oraz tworzenia nowych cech bazujących na zmiennych nominalnych?)\n",
    "\n",
    "podstawową techniką wydaje sie uzupełnienie brakujacych wartości średnią z danej cechy. Pozwala to na zachowanie struktury (nie pozbywamy się próbek) danych bez otrzymania biasu przy uzupełnianiu danych. Również dodanie dodatkowych cech np. poprzez zdyskretyzowanie opisów słownych pozwala na zwiększyc zakres dopasowania dla próbek. Warto eksperymentować z różnymi podejściami i monitorować wydajność modelu na zbiorze walidacyjnym. Kombinacja kilku metod może również przynieść najlepsze rezultaty. "
   ]
  },
  {
   "cell_type": "markdown",
   "metadata": {},
   "source": []
  }
 ],
 "metadata": {
  "kernelspec": {
   "display_name": ".venv",
   "language": "python",
   "name": "python3"
  },
  "language_info": {
   "codemirror_mode": {
    "name": "ipython",
    "version": 3
   },
   "file_extension": ".py",
   "mimetype": "text/x-python",
   "name": "python",
   "nbconvert_exporter": "python",
   "pygments_lexer": "ipython3",
   "version": "3.10.12"
  }
 },
 "nbformat": 4,
 "nbformat_minor": 2
}
